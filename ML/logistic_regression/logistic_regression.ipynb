{
 "cells": [
  {
   "cell_type": "code",
   "execution_count": 55,
   "metadata": {},
   "outputs": [],
   "source": [
    "import numpy as np\n",
    "import pandas as pd\n",
    "\n",
    "import matplotlib.pyplot as plt\n",
    "import matplotlib.image as mpimg\n",
    "\n",
    "from scipy.special import softmax\n",
    "\n",
    "from sklearn.model_selection import train_test_split\n",
    "from sklearn.metrics import multilabel_confusion_matrix\n",
    "\n",
    "import os\n",
    "\n",
    "basepath_1 = 'C:\\Academic\\ECE - 4370 (Machine_Learning)\\Assignments\\Assignment_4\\Celegans_ModelGen/1'\n",
    "labelled_images = []\n",
    "for image in os.listdir(basepath_1):\n",
    "    if os.path.isfile(os.path.join(basepath_1, image)):\n",
    "        img = mpimg.imread(os.path.join(basepath_1, image))\n",
    "        # remove line below to insert 101x101 images\n",
    "        arr_img = img.reshape([10201])\n",
    "        arr_img = np.hstack((arr_img, 1))\n",
    "        labelled_images.append(arr_img)\n",
    "        \n",
    "basepath_0 = 'C:\\Academic\\ECE - 4370 (Machine_Learning)\\Assignments\\Assignment_4\\Celegans_ModelGen/0'\n",
    "for image in os.listdir(basepath_0):\n",
    "    if os.path.isfile(os.path.join(basepath_0, image)):\n",
    "        img = mpimg.imread(os.path.join(basepath_0, image))\n",
    "        arr_img = img.reshape([10201])\n",
    "        arr_img = np.hstack((arr_img, 0))\n",
    "        labelled_images.append(arr_img)\n",
    "np.random.shuffle(labelled_images)\n",
    "# W is (M+1)xK -> 2x2\n",
    "W = np.random.randn(10201+1,2)"
   ]
  },
  {
   "cell_type": "code",
   "execution_count": 56,
   "metadata": {},
   "outputs": [],
   "source": [
    "m = W.shape[0] - 1\n",
    "k = W.shape[1]\n",
    "t = np.zeros((1, k))\n",
    "for image in labelled_images:\n",
    "    target = np.zeros(k)\n",
    "    label = image[-1]\n",
    "    target[int(label)] = 1\n",
    "    t = np.vstack((t, target))\n",
    "t = np.delete(t, 0, axis=0)"
   ]
  },
  {
   "cell_type": "code",
   "execution_count": 57,
   "metadata": {},
   "outputs": [],
   "source": [
    "x = []\n",
    "for image in labelled_images:\n",
    "    image = np.delete(image, -1, axis=0)\n",
    "    x.append(image)\n"
   ]
  },
  {
   "cell_type": "code",
   "execution_count": 58,
   "metadata": {},
   "outputs": [],
   "source": [
    "x = np.array(x).reshape(len(x), 10201)\n",
    "x = np.hstack((x, np.ones((len(x), 1))))"
   ]
  },
  {
   "cell_type": "code",
   "execution_count": 59,
   "metadata": {},
   "outputs": [
    {
     "data": {
      "text/plain": [
       "(11000, 10202)"
      ]
     },
     "execution_count": 59,
     "metadata": {},
     "output_type": "execute_result"
    }
   ],
   "source": [
    "X_train, X_test, Y_train, Y_test = train_test_split(mnist_data_normalized, mnist_label, test_size=0.20, random_state=42)"
   ]
  },
  {
   "cell_type": "code",
   "execution_count": 71,
   "metadata": {},
   "outputs": [],
   "source": [
    "phi = 0.0001\n",
    "max_iter = 10000\n",
    "n = x.shape[0] # num samples\n",
    "m = x.shape[1] # num measurements per sample\n",
    "k = W.shape[1] # num classes\n",
    "for _ in range(max_iter):\n",
    "    # error = -(1 / m) * (np.dot(t.T, np.log(y)) + np.dot((1 - t).T, np.log(1 - y)))\n",
    "    a = np.dot(x, W)\n",
    "    y = softmax(a, axis=1)\n",
    "    for j in range(k):\n",
    "        sum_error_gradient = 0\n",
    "        \"\"\" for i in range(n):\n",
    "            sum_error_gradient = sum_error_gradient + np.dot((y[i][j] - t[i][j]), x[i]) \"\"\"\n",
    "        sum_error_gradient = np.dot((y[:,j] - t[:,j]), x)\n",
    "        error = sum_error_gradient.reshape(10202,1)\n",
    "        W[:, j:j+1] = W[:, j:j+1] - (phi * error)"
   ]
  },
  {
   "cell_type": "code",
   "execution_count": 61,
   "metadata": {},
   "outputs": [
    {
     "data": {
      "text/plain": [
       "(11000,)"
      ]
     },
     "execution_count": 61,
     "metadata": {},
     "output_type": "execute_result"
    }
   ],
   "source": [
    "y[:,0].shape"
   ]
  },
  {
   "cell_type": "code",
   "execution_count": 72,
   "metadata": {},
   "outputs": [
    {
     "data": {
      "text/plain": [
       "array([[  6.94708697,  -4.86543632],\n",
       "       [  5.19622449,  -6.87663212],\n",
       "       [  3.86302956,  -4.375083  ],\n",
       "       ...,\n",
       "       [ -3.05194943,   3.91039999],\n",
       "       [ -2.58991169,   3.84712369],\n",
       "       [ 11.24406037, -10.78290008]])"
      ]
     },
     "execution_count": 72,
     "metadata": {},
     "output_type": "execute_result"
    }
   ],
   "source": [
    "W"
   ]
  },
  {
   "cell_type": "code",
   "execution_count": 73,
   "metadata": {},
   "outputs": [],
   "source": [
    "df_w = pd.DataFrame(W)\n",
    "df_w.to_csv(\"weights.csv\")"
   ]
  },
  {
   "cell_type": "code",
   "execution_count": 74,
   "metadata": {},
   "outputs": [],
   "source": [
    "y = softmax(np.dot(x, W), axis=1)"
   ]
  },
  {
   "cell_type": "code",
   "execution_count": 75,
   "metadata": {},
   "outputs": [],
   "source": [
    "y_pred = np.array([9,9])\n",
    "for preds in y:\n",
    "    index = np.argmax(preds)\n",
    "    arr = np.zeros(len(preds))\n",
    "    arr[index] = 1\n",
    "    y_pred = np.vstack((y_pred, arr))\n",
    "y_pred = np.delete(y_pred, 0, axis=0)"
   ]
  },
  {
   "cell_type": "code",
   "execution_count": 76,
   "metadata": {},
   "outputs": [
    {
     "data": {
      "text/plain": [
       "array([[1., 0.],\n",
       "       [1., 0.],\n",
       "       [1., 0.],\n",
       "       ...,\n",
       "       [1., 0.],\n",
       "       [0., 1.],\n",
       "       [1., 0.]])"
      ]
     },
     "execution_count": 76,
     "metadata": {},
     "output_type": "execute_result"
    }
   ],
   "source": [
    "# this should be very close to t\n",
    "y_pred"
   ]
  },
  {
   "cell_type": "code",
   "execution_count": 77,
   "metadata": {},
   "outputs": [
    {
     "name": "stdout",
     "output_type": "stream",
     "text": [
      "[[[1159 4341]\n",
      "  [ 509 4991]]\n",
      "\n",
      " [[4991  509]\n",
      "  [4341 1159]]]\n"
     ]
    }
   ],
   "source": [
    "cf_matrix = multilabel_confusion_matrix(t, y_pred, labels=[False, True])\n",
    "print(cf_matrix)"
   ]
  },
  {
   "cell_type": "code",
   "execution_count": 78,
   "metadata": {},
   "outputs": [],
   "source": [
    "correct = 0\n",
    "for i, preds in enumerate(y_pred):\n",
    "    if np.array_equal(preds, t[i]):\n",
    "        correct += 1"
   ]
  },
  {
   "cell_type": "code",
   "execution_count": 79,
   "metadata": {},
   "outputs": [
    {
     "data": {
      "text/plain": [
       "0.5590909090909091"
      ]
     },
     "execution_count": 79,
     "metadata": {},
     "output_type": "execute_result"
    }
   ],
   "source": [
    "correct / 11000\n",
    "       "
   ]
  },
  {
   "cell_type": "code",
   "execution_count": null,
   "metadata": {},
   "outputs": [],
   "source": [
    "  "
   ]
  },
  {
   "cell_type": "code",
   "execution_count": 70,
   "metadata": {},
   "outputs": [
    {
     "data": {
      "text/plain": [
       "' \\nfor test in classes:\\n    if test:\\n        t = np.vstack((t, [1, 0]))\\n    else:\\n        t = np.vstack((t, [0, 1]))\\nt = np.delete(t, 0, axis=0) '"
      ]
     },
     "execution_count": 70,
     "metadata": {},
     "output_type": "execute_result"
    }
   ],
   "source": [
    "# X is Nx(M+1) -> Nx2 \n",
    "# used to test logistic regression implementation\n",
    "\"\"\" df = pd.read_csv(\"C:\\Developer\\ML_PR\\ML\\logistic_regression\\classification.csv\")\n",
    "x = df.iloc[:,:-1]\n",
    "x = np.hstack((x, np.ones((x.shape[0],1))))\n",
    "# fix t to make it one-hot encoded\n",
    "classes = df.loc[:,'success'].astype('int64') \"\"\"\n",
    "\n",
    "\"\"\" \n",
    "for test in classes:\n",
    "    if test:\n",
    "        t = np.vstack((t, [1, 0]))\n",
    "    else:\n",
    "        t = np.vstack((t, [0, 1]))\n",
    "t = np.delete(t, 0, axis=0) \"\"\""
   ]
  }
 ],
 "metadata": {
  "interpreter": {
   "hash": "76cfb860b8d8296744eafcb72f209637fa1d900b396ffe522c8c85dcdb3ee4ef"
  },
  "kernelspec": {
   "display_name": "Python 3.9.7 ('ml_pr')",
   "language": "python",
   "name": "python3"
  },
  "language_info": {
   "codemirror_mode": {
    "name": "ipython",
    "version": 3
   },
   "file_extension": ".py",
   "mimetype": "text/x-python",
   "name": "python",
   "nbconvert_exporter": "python",
   "pygments_lexer": "ipython3",
   "version": "3.9.7"
  },
  "orig_nbformat": 4
 },
 "nbformat": 4,
 "nbformat_minor": 2
}
